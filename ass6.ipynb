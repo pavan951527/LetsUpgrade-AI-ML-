{
 "cells": [
  {
   "cell_type": "markdown",
   "metadata": {},
   "source": [
    "QUESTION 1:"
   ]
  },
  {
   "cell_type": "code",
   "execution_count": 4,
   "metadata": {},
   "outputs": [
    {
     "name": "stdout",
     "output_type": "stream",
     "text": [
      "google\n"
     ]
    }
   ],
   "source": [
    "def extractcom(email):\n",
    "    index = email.find('@')\n",
    "    index1=email.find('.')\n",
    "\n",
    "    return email[index+1:index1]\n",
    "email='pavan@google.com'\n",
    "print(extractcom(email))"
   ]
  },
  {
   "cell_type": "markdown",
   "metadata": {},
   "source": [
    "QUESTION 2:"
   ]
  },
  {
   "cell_type": "code",
   "execution_count": 10,
   "metadata": {},
   "outputs": [
    {
     "name": "stdout",
     "output_type": "stream",
     "text": [
      "word,comma,pavan\n",
      "comma,pavan,word\n"
     ]
    }
   ],
   "source": [
    "s=input()\n",
    "s=s.split(',')\n",
    "s.sort()\n",
    "print(','.join(s))"
   ]
  },
  {
   "cell_type": "markdown",
   "metadata": {},
   "source": [
    "QUESTION 3:\n",
    "sets"
   ]
  },
  {
   "cell_type": "code",
   "execution_count": 25,
   "metadata": {},
   "outputs": [
    {
     "name": "stdout",
     "output_type": "stream",
     "text": [
      "{'comma', 'pavan', 'word'}\n",
      "{'comma', 'pavan', 'word'}\n",
      "{'comma', 'ref', 'pavan', 'word'}\n",
      "{1, 'pavan', 'comma', 'ref', 'word'}\n",
      "{1, 'pavan', 'comma', 'ref', 'word'}\n",
      "set()\n"
     ]
    }
   ],
   "source": [
    "k = {\"pavan\", \"word\", \"comma\"} \n",
    "print(k)\n",
    "#or\n",
    "st= set([\"pavan\", \"word\", \"comma\"])\n",
    "print(st)\n",
    "#we use curly braces inorder to get a input as set\n",
    "#set will never store duplicate elements\n",
    "#there is no specific order in set\n",
    "#we cannot access set using index values\n",
    "#Once a set is created, you cannot change its items, but you can add new items\n",
    "#adding elements into list\n",
    "k.add('ref')\n",
    "print(k)\n",
    "#Frozen sets in Python are immutable objects that only support methods and operators that produce a result without affecting the frozen set or sets to which they are applied. While elements of a set can be modified at any time, elements of the frozen set remain the same after creation.\n",
    "#set can be alphanumeric\n",
    "k.add(1)\n",
    "print(k)\n",
    "#dupliacte elements: cannot have duplicate elements\n",
    "k.add(1)\n",
    "print(k)\n",
    "#clearing the set : st= set([\"pavan\", \"word\", \"comma\"])\n",
    "st.clear()\n",
    "print(st)"
   ]
  },
  {
   "cell_type": "markdown",
   "metadata": {},
   "source": [
    "QUESTION 4:"
   ]
  },
  {
   "cell_type": "code",
   "execution_count": 38,
   "metadata": {},
   "outputs": [
    {
     "name": "stdout",
     "output_type": "stream",
     "text": [
      "[4]\n"
     ]
    }
   ],
   "source": [
    "lis=[1,2,3,8,7,5,6,9]\n",
    "res=[i for i in range(1,max(lis)+1) if i not in lis]        \n",
    "print(res)"
   ]
  },
  {
   "cell_type": "markdown",
   "metadata": {},
   "source": [
    "QUESTION 5:"
   ]
  },
  {
   "cell_type": "code",
   "execution_count": 42,
   "metadata": {},
   "outputs": [
    {
     "name": "stdout",
     "output_type": "stream",
     "text": [
      "[1, 2, 3, 5, 6, 4, 9, 8]\n"
     ]
    }
   ],
   "source": [
    "l=[1,2,3,2,5,6,2,4,5,9,8,9,9]\n",
    "g=[]\n",
    "for i in l:\n",
    "    if i not in g:\n",
    "        g.append(i)\n",
    "print(g)"
   ]
  },
  {
   "cell_type": "code",
   "execution_count": null,
   "metadata": {},
   "outputs": [],
   "source": []
  }
 ],
 "metadata": {
  "kernelspec": {
   "display_name": "Python 3",
   "language": "python",
   "name": "python3"
  },
  "language_info": {
   "codemirror_mode": {
    "name": "ipython",
    "version": 3
   },
   "file_extension": ".py",
   "mimetype": "text/x-python",
   "name": "python",
   "nbconvert_exporter": "python",
   "pygments_lexer": "ipython3",
   "version": "3.8.3"
  }
 },
 "nbformat": 4,
 "nbformat_minor": 4
}
