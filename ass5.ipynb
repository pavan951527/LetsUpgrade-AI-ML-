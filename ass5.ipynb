{
 "cells": [
  {
   "cell_type": "markdown",
   "metadata": {},
   "source": [
    "QUESTION 1:"
   ]
  },
  {
   "cell_type": "code",
   "execution_count": 2,
   "metadata": {},
   "outputs": [
    {
     "name": "stdout",
     "output_type": "stream",
     "text": [
      "1 3 5 7 9 11 13 15 17 19 21 23 25 27 29 31 33 35 37 39 "
     ]
    }
   ],
   "source": [
    "for i in range(1,40):\n",
    "    if i%2!=0:\n",
    "        print(i,end=' ')"
   ]
  },
  {
   "cell_type": "markdown",
   "metadata": {},
   "source": [
    "QUESTION 2:"
   ]
  },
  {
   "cell_type": "code",
   "execution_count": 20,
   "metadata": {},
   "outputs": [
    {
     "name": "stdout",
     "output_type": "stream",
     "text": [
      "11 6 pavan reddy PAVAN REDDY <class 'str'> False False PAVAN reDdy ['pavan', 'reDdy'] Pavan reddy pavan reddy 2 True False False\n"
     ]
    }
   ],
   "source": [
    "s='pavan reDdy'\n",
    "print(len(s),s.find('re'),s.lower(),s.upper(),type(s),s.isupper(),s.islower(),s.replace('pavan','PAVAN'),s.split(' '),s.capitalize(),s.casefold(),s.count('a'),s.endswith('y'),s.isalpha(),s.isnumeric())"
   ]
  },
  {
   "cell_type": "markdown",
   "metadata": {},
   "source": [
    "QUESTION 3:"
   ]
  },
  {
   "cell_type": "code",
   "execution_count": 34,
   "metadata": {},
   "outputs": [
    {
     "name": "stdout",
     "output_type": "stream",
     "text": [
      "Palindrome\n",
      "The strings are anagrams.\n"
     ]
    }
   ],
   "source": [
    "def check(s1, s2):  \n",
    "    if(sorted(s1)== sorted(s2)): \n",
    "        print(\"The strings are anagrams.\")  \n",
    "    else: \n",
    "        print(\"The strings aren't anagrams.\")  \n",
    "        \n",
    "        \n",
    "k='ampllpma'\n",
    "p='ppllaamm'\n",
    "k1=k[::-1]\n",
    "if k==k1:\n",
    "    print('Palindrome')          \n",
    "check(k,p)"
   ]
  },
  {
   "cell_type": "markdown",
   "metadata": {},
   "source": [
    "QUESTION 4:"
   ]
  },
  {
   "cell_type": "code",
   "execution_count": 51,
   "metadata": {},
   "outputs": [
    {
     "name": "stdout",
     "output_type": "stream",
     "text": [
      "pavanitsagreatweekendhowsaboutyou\n"
     ]
    }
   ],
   "source": [
    "char_set = set(\"!@#%&*()'-, []{}/?<>\")\n",
    "s = \"@Pavan, It's a great #week-end%, How's about () you\"\n",
    "s1 = \"\"\n",
    "for i in range(0, len(s)):\n",
    "    if not s[i] in char_set:\n",
    "        s1 += s[i]\n",
    "    #print(s1)\n",
    "s1 = \" \".join(s1.split())\n",
    "print(s1.lower())"
   ]
  },
  {
   "cell_type": "code",
   "execution_count": null,
   "metadata": {},
   "outputs": [],
   "source": []
  },
  {
   "cell_type": "code",
   "execution_count": null,
   "metadata": {},
   "outputs": [],
   "source": []
  }
 ],
 "metadata": {
  "kernelspec": {
   "display_name": "Python 3",
   "language": "python",
   "name": "python3"
  },
  "language_info": {
   "codemirror_mode": {
    "name": "ipython",
    "version": 3
   },
   "file_extension": ".py",
   "mimetype": "text/x-python",
   "name": "python",
   "nbconvert_exporter": "python",
   "pygments_lexer": "ipython3",
   "version": "3.8.3"
  }
 },
 "nbformat": 4,
 "nbformat_minor": 4
}
